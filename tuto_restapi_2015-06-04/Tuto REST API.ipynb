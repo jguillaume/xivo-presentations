{
 "cells": [
  {
   "cell_type": "markdown",
   "metadata": {},
   "source": [
    "Introduction\n",
    "=======\n",
    "\n",
    "Ce tutoriel a pour but de vous illustrer différentes manières d'utiliser les services web (REST API) sur un serveur XiVO. Les exemples dans ce document utilisent le langage python, mais les principes démontrés peuvent être réutilisés dans d'autres langages de programmation.\n",
    "\n",
    "Pour ce tutoriel nous allons nous concentrer sur l'utilisation de confd, le service de configuration des différentes resources sur un serveur xivo comme les utilisateurs, les extensions, les files d'attente, etc\n",
    "\n",
    "Prérequis\n",
    "=====\n",
    "\n",
    " * Un éditeur texte\n",
    " * Une version de python assez récente (2.7, 3.x)\n",
    " * La librairie python-requests\n",
    " \n",
    "Sous debian, python-requests s'installe avec la commande suivante :\n",
    "\n",
    "    apt-get install python-requests\n",
    "    \n",
    "Sinon, vous pouvez aussi installer avec pip, l'utilitaire de librarie pour python\n",
    "\n",
    "    pip install requests"
   ]
  },
  {
   "cell_type": "markdown",
   "metadata": {},
   "source": [
    "# Préparation\n",
    "\n",
    "Avant d'envoyer des requêtes à confd, nous devons préparer quelques éléments de configuration :\n",
    "\n",
    " * Les données JSON\n",
    " * L'authentification\n",
    " \n",
    "Pour éviter de recopier cette configuration à chaque requête, nous allons utiliser la notion de \"session\" offert par la librarie requests. La session permet de stocker un certain nombre de paramètres qui seront réutilisés à chaque fois que nous envoyons des requêtes.\n",
    " \n",
    "L'authentification se fera grâce à un module externe disponible dans requests. **N'oubliez pas de configurer un utilisateur pour lesweb services dans la webi !**\n",
    " \n",
    "Confd utilise le format JSON pour envoyer et recevoir des données. Nous allons ajouter ces headers HTTP pour signaler au serveur que nous allons envoyer et recevoir nos requêtes dans ce format."
   ]
  },
  {
   "cell_type": "code",
   "execution_count": 3,
   "metadata": {
    "collapsed": false
   },
   "outputs": [],
   "source": [
    "import requests\n",
    "import json\n",
    "from pprint import pprint\n",
    "\n",
    "requests.packages.urllib3.disable_warnings()\n",
    "\n",
    "SERVER = \"https://dev:9486/1.1\"\n",
    "USERNAME = \"utilisateur\"\n",
    "PASSWORD = \"motdepasse\"\n",
    "\n",
    "\n",
    "session = requests.Session()\n",
    "session.verify = False\n",
    "session.auth = requests.auth.HTTPDigestAuth(USERNAME, PASSWORD)\n",
    "session.headers = {'Accept': 'application/json', 'Content-Type': 'application/json'}"
   ]
  },
  {
   "cell_type": "markdown",
   "metadata": {},
   "source": [
    "# Lecture de données\n",
    "\n",
    "Nous utilisons l'action GET en HTTP pour récupérer des donnés d'une ressource. Voici quelques exemples de requêtes pour récupérer des données à travers confd. Pour chaque exemple vous avez un exemple de code, suivi de la réponse."
   ]
  },
  {
   "cell_type": "markdown",
   "metadata": {},
   "source": [
    "## Liste\n",
    "\n",
    "Par défaut, la requête retourne la liste de tous les éléments pour une ressource donnée sur un xivo. Dans l'exemple suivant nous listons tous les utilisateurs"
   ]
  },
  {
   "cell_type": "code",
   "execution_count": 4,
   "metadata": {
    "collapsed": false
   },
   "outputs": [
    {
     "name": "stdout",
     "output_type": "stream",
     "text": [
      "{u'items': [{u'caller_id': u'\"Mao Abdoulai\"',\n",
      "             u'description': u'',\n",
      "             u'firstname': u'Mao',\n",
      "             u'id': 3,\n",
      "             u'language': None,\n",
      "             u'lastname': u'Abdoulai',\n",
      "             u'links': [{u'href': u'https://dev:9486/1.1/users/3',\n",
      "                         u'rel': u'users'}],\n",
      "             u'mobile_phone_number': None,\n",
      "             u'music_on_hold': u'default',\n",
      "             u'outgoing_caller_id': u'default',\n",
      "             u'password': None,\n",
      "             u'preprocess_subroutine': None,\n",
      "             u'timezone': u'',\n",
      "             u'userfield': u'',\n",
      "             u'username': u''},\n",
      "            {u'caller_id': u'\"Mamasta Michel-Brunnemer\"',\n",
      "             u'description': u'',\n",
      "             u'firstname': u'Mamasta',\n",
      "             u'id': 2,\n",
      "             u'language': None,\n",
      "             u'lastname': u'Michel-Brunnemer',\n",
      "             u'links': [{u'href': u'https://dev:9486/1.1/users/2',\n",
      "                         u'rel': u'users'}],\n",
      "             u'mobile_phone_number': None,\n",
      "             u'music_on_hold': u'default',\n",
      "             u'outgoing_caller_id': u'default',\n",
      "             u'password': u'mamasta',\n",
      "             u'preprocess_subroutine': None,\n",
      "             u'timezone': u'',\n",
      "             u'userfield': u'',\n",
      "             u'username': u'mamasta'},\n",
      "            {u'caller_id': u'\"Fod\\xe9 Sanderson\"',\n",
      "             u'description': u'',\n",
      "             u'firstname': u'Fod\\xe9',\n",
      "             u'id': 5,\n",
      "             u'language': u'fr_FR',\n",
      "             u'lastname': u'Sanderson',\n",
      "             u'links': [{u'href': u'https://dev:9486/1.1/users/5',\n",
      "                         u'rel': u'users'}],\n",
      "             u'mobile_phone_number': None,\n",
      "             u'music_on_hold': u'default',\n",
      "             u'outgoing_caller_id': u'default',\n",
      "             u'password': u'fode',\n",
      "             u'preprocess_subroutine': None,\n",
      "             u'timezone': u'America/Montreal',\n",
      "             u'userfield': u'',\n",
      "             u'username': u'fode'}],\n",
      " u'total': 3}\n"
     ]
    }
   ],
   "source": [
    "url = \"{}/users\".format(SERVER)\n",
    "response = session.get(url).json()\n",
    "\n",
    "pprint(response)"
   ]
  },
  {
   "cell_type": "markdown",
   "metadata": {},
   "source": [
    "## Recherche\n",
    "\n",
    "Vous pouvez faire une recherche avec un mot clé en ajoutant le paramètre \"search=motcle\" à la fin de l'URL. Dans l'exemple suivant nous utilisons l'option \"params\" de requests qui ajoutera automatiquent le paramètre à la fin de l'URL"
   ]
  },
  {
   "cell_type": "code",
   "execution_count": 5,
   "metadata": {
    "collapsed": false
   },
   "outputs": [
    {
     "name": "stdout",
     "output_type": "stream",
     "text": [
      "{u'items': [{u'caller_id': u'\"Fod\\xe9 Sanderson\"',\n",
      "             u'description': u'',\n",
      "             u'firstname': u'Fod\\xe9',\n",
      "             u'id': 5,\n",
      "             u'language': u'fr_FR',\n",
      "             u'lastname': u'Sanderson',\n",
      "             u'links': [{u'href': u'https://dev:9486/1.1/users/5',\n",
      "                         u'rel': u'users'}],\n",
      "             u'mobile_phone_number': None,\n",
      "             u'music_on_hold': u'default',\n",
      "             u'outgoing_caller_id': u'default',\n",
      "             u'password': u'fode',\n",
      "             u'preprocess_subroutine': None,\n",
      "             u'timezone': u'America/Montreal',\n",
      "             u'userfield': u'',\n",
      "             u'username': u'fode'}],\n",
      " u'total': 1}\n"
     ]
    }
   ],
   "source": [
    "url = \"{}/users\".format(SERVER)\n",
    "query = {'search': 'sanderson'}\n",
    "response = session.get(url, params=query).json()\n",
    "\n",
    "pprint(response)"
   ]
  },
  {
   "cell_type": "markdown",
   "metadata": {},
   "source": [
    "## Pagination\n",
    "\n",
    "Vous pouvez limiter le nombre de résultats obtenus avec les paramètres suivants :\n",
    "\n",
    " * limit\n",
    "     * nombre maximum d'éléments à retourner\n",
    " * skip\n",
    "     * nombre d'éléments à passer outre dans la liste"
   ]
  },
  {
   "cell_type": "code",
   "execution_count": 6,
   "metadata": {
    "collapsed": false
   },
   "outputs": [
    {
     "name": "stdout",
     "output_type": "stream",
     "text": [
      "{u'items': [{u'caller_id': u'\"Mamasta Michel-Brunnemer\"',\n",
      "             u'description': u'',\n",
      "             u'firstname': u'Mamasta',\n",
      "             u'id': 2,\n",
      "             u'language': None,\n",
      "             u'lastname': u'Michel-Brunnemer',\n",
      "             u'links': [{u'href': u'https://dev:9486/1.1/users/2',\n",
      "                         u'rel': u'users'}],\n",
      "             u'mobile_phone_number': None,\n",
      "             u'music_on_hold': u'default',\n",
      "             u'outgoing_caller_id': u'default',\n",
      "             u'password': u'mamasta',\n",
      "             u'preprocess_subroutine': None,\n",
      "             u'timezone': u'',\n",
      "             u'userfield': u'',\n",
      "             u'username': u'mamasta'},\n",
      "            {u'caller_id': u'\"Fod\\xe9 Sanderson\"',\n",
      "             u'description': u'',\n",
      "             u'firstname': u'Fod\\xe9',\n",
      "             u'id': 5,\n",
      "             u'language': u'fr_FR',\n",
      "             u'lastname': u'Sanderson',\n",
      "             u'links': [{u'href': u'https://dev:9486/1.1/users/5',\n",
      "                         u'rel': u'users'}],\n",
      "             u'mobile_phone_number': None,\n",
      "             u'music_on_hold': u'default',\n",
      "             u'outgoing_caller_id': u'default',\n",
      "             u'password': u'fode',\n",
      "             u'preprocess_subroutine': None,\n",
      "             u'timezone': u'America/Montreal',\n",
      "             u'userfield': u'',\n",
      "             u'username': u'fode'}],\n",
      " u'total': 3}\n"
     ]
    }
   ],
   "source": [
    "url = \"{}/users\".format(SERVER)\n",
    "query = {'limit': 2, 'skip': 1}\n",
    "response = session.get(url, params=query).json()\n",
    "\n",
    "pprint(response)"
   ]
  },
  {
   "cell_type": "markdown",
   "metadata": {},
   "source": [
    "## Triage\n",
    "\n",
    "La liste peut se faire trier en ordre croissant (asc) ou décrossiant (desc) sur la colonne de votre choix. La colonne utilisé pour le tri se retrouve dans le paramètre \"order\""
   ]
  },
  {
   "cell_type": "code",
   "execution_count": 7,
   "metadata": {
    "collapsed": false
   },
   "outputs": [
    {
     "name": "stdout",
     "output_type": "stream",
     "text": [
      "{u'items': [{u'caller_id': u'\"Fod\\xe9 Sanderson\"',\n",
      "             u'description': u'',\n",
      "             u'firstname': u'Fod\\xe9',\n",
      "             u'id': 5,\n",
      "             u'language': u'fr_FR',\n",
      "             u'lastname': u'Sanderson',\n",
      "             u'links': [{u'href': u'https://dev:9486/1.1/users/5',\n",
      "                         u'rel': u'users'}],\n",
      "             u'mobile_phone_number': None,\n",
      "             u'music_on_hold': u'default',\n",
      "             u'outgoing_caller_id': u'default',\n",
      "             u'password': u'fode',\n",
      "             u'preprocess_subroutine': None,\n",
      "             u'timezone': u'America/Montreal',\n",
      "             u'userfield': u'',\n",
      "             u'username': u'fode'},\n",
      "            {u'caller_id': u'\"Mamasta Michel-Brunnemer\"',\n",
      "             u'description': u'',\n",
      "             u'firstname': u'Mamasta',\n",
      "             u'id': 2,\n",
      "             u'language': None,\n",
      "             u'lastname': u'Michel-Brunnemer',\n",
      "             u'links': [{u'href': u'https://dev:9486/1.1/users/2',\n",
      "                         u'rel': u'users'}],\n",
      "             u'mobile_phone_number': None,\n",
      "             u'music_on_hold': u'default',\n",
      "             u'outgoing_caller_id': u'default',\n",
      "             u'password': u'mamasta',\n",
      "             u'preprocess_subroutine': None,\n",
      "             u'timezone': u'',\n",
      "             u'userfield': u'',\n",
      "             u'username': u'mamasta'},\n",
      "            {u'caller_id': u'\"Mao Abdoulai\"',\n",
      "             u'description': u'',\n",
      "             u'firstname': u'Mao',\n",
      "             u'id': 3,\n",
      "             u'language': None,\n",
      "             u'lastname': u'Abdoulai',\n",
      "             u'links': [{u'href': u'https://dev:9486/1.1/users/3',\n",
      "                         u'rel': u'users'}],\n",
      "             u'mobile_phone_number': None,\n",
      "             u'music_on_hold': u'default',\n",
      "             u'outgoing_caller_id': u'default',\n",
      "             u'password': None,\n",
      "             u'preprocess_subroutine': None,\n",
      "             u'timezone': u'',\n",
      "             u'userfield': u'',\n",
      "             u'username': u''}],\n",
      " u'total': 3}\n"
     ]
    }
   ],
   "source": [
    "url = \"{}/users\".format(SERVER)\n",
    "query = {'order': 'lastname', 'direction': 'desc'}\n",
    "response = session.get(url, params=query).json()\n",
    "\n",
    "pprint(response)"
   ]
  },
  {
   "cell_type": "markdown",
   "metadata": {},
   "source": [
    "## Récupérer une ressource\n",
    "\n",
    "Pour récupérer un seul élément dans une liste, vous pouvez passer l'id de l'élément dans l'URL. Dans l'exemple suivant\n",
    "nous récupérons les informations sur l'utilisateur avec l'id 2"
   ]
  },
  {
   "cell_type": "code",
   "execution_count": 8,
   "metadata": {
    "collapsed": false
   },
   "outputs": [
    {
     "name": "stdout",
     "output_type": "stream",
     "text": [
      "{u'caller_id': u'\"Mamasta Michel-Brunnemer\"',\n",
      " u'description': u'',\n",
      " u'firstname': u'Mamasta',\n",
      " u'id': 2,\n",
      " u'language': None,\n",
      " u'lastname': u'Michel-Brunnemer',\n",
      " u'links': [{u'href': u'https://dev:9486/1.1/users/2', u'rel': u'users'}],\n",
      " u'mobile_phone_number': None,\n",
      " u'music_on_hold': u'default',\n",
      " u'outgoing_caller_id': u'default',\n",
      " u'password': u'mamasta',\n",
      " u'preprocess_subroutine': None,\n",
      " u'timezone': u'',\n",
      " u'userfield': u'',\n",
      " u'username': u'mamasta'}\n"
     ]
    }
   ],
   "source": [
    "user_id = 2\n",
    "url = \"{}/users/{}\".format(SERVER, user_id)\n",
    "response = session.get(url).json()\n",
    "\n",
    "pprint(response)"
   ]
  },
  {
   "cell_type": "markdown",
   "metadata": {},
   "source": [
    "# Écriture\n",
    "\n",
    "L'écriture de données se fait avec l'action POST en HTTP. Comme mentionné précédemment, confd s'attend à recevoir des données sous format JSON. Heureusement, python nous offre une librairie qui permet de facilement transformer des données dans ce format."
   ]
  },
  {
   "cell_type": "markdown",
   "metadata": {},
   "source": [
    "## Création\n",
    "\n",
    "Dans l'exemple suivant nous créons un utilisateur (John Doe), nous transformons les données en format JSON, puis nous envoyons ces données dans le body de la requête. Le serveur nous envoie une réponse confirmant la création de l'utilisateur"
   ]
  },
  {
   "cell_type": "code",
   "execution_count": 10,
   "metadata": {
    "collapsed": false
   },
   "outputs": [
    {
     "name": "stdout",
     "output_type": "stream",
     "text": [
      "{u'caller_id': u'\"Joe Cool\"',\n",
      " u'description': None,\n",
      " u'firstname': u'John',\n",
      " u'id': 19,\n",
      " u'language': u'fr_FR',\n",
      " u'lastname': u'Doe',\n",
      " u'links': [{u'href': u'https://dev:9486/1.1/users/19', u'rel': u'users'}],\n",
      " u'mobile_phone_number': None,\n",
      " u'music_on_hold': None,\n",
      " u'outgoing_caller_id': None,\n",
      " u'password': u'password',\n",
      " u'preprocess_subroutine': None,\n",
      " u'timezone': None,\n",
      " u'userfield': None,\n",
      " u'username': u'joe'}\n"
     ]
    }
   ],
   "source": [
    "parameters = {'firstname': 'John',\n",
    "              'lastname': 'Doe',\n",
    "              'caller_id': '\"Joe Cool\"',\n",
    "              'language': 'fr_FR',\n",
    "              'username': 'joe',\n",
    "              'password': 'password'}\n",
    "\n",
    "\n",
    "url = \"{}/users\".format(SERVER)\n",
    "encoded_parameters = json.dumps(parameters)\n",
    "\n",
    "user = session.post(url, data=encoded_parameters).json()\n",
    "pprint(user)"
   ]
  },
  {
   "cell_type": "markdown",
   "metadata": {},
   "source": [
    "## Mise à jour de l'utilisateur\n",
    "\n",
    "Lorsque nous mettons à jour une ressource, nous avons seulement besoin d'envoyer les champs qui ont été modifiés. Dans cet exemple, nous modifions seulement le prénom de l'utilisateur. Il est aussi important de spécifier l'id de l'utilisateur que nous voulons modifier dans l'URL"
   ]
  },
  {
   "cell_type": "code",
   "execution_count": 11,
   "metadata": {
    "collapsed": false
   },
   "outputs": [
    {
     "name": "stdout",
     "output_type": "stream",
     "text": [
      "204\n"
     ]
    }
   ],
   "source": [
    "parameters = {'firstname': 'Johnny'}\n",
    "\n",
    "url = \"{}/users/{}\".format(SERVER, user['id'])\n",
    "encoded_parameters = json.dumps(parameters)\n",
    "\n",
    "response = session.put(url, data=encoded_parameters)\n",
    "pprint(response.status_code)"
   ]
  },
  {
   "cell_type": "markdown",
   "metadata": {},
   "source": [
    "# Suppression\n",
    "\n",
    "Pour supprimer une ressource, nous utilisons l'action DELETE en HTTP."
   ]
  },
  {
   "cell_type": "markdown",
   "metadata": {},
   "source": [
    "## Suppression d'un utilisateur"
   ]
  },
  {
   "cell_type": "code",
   "execution_count": 12,
   "metadata": {
    "collapsed": false
   },
   "outputs": [
    {
     "name": "stdout",
     "output_type": "stream",
     "text": [
      "204\n"
     ]
    }
   ],
   "source": [
    "url = \"{}/users/{}\".format(SERVER, user['id'])\n",
    "\n",
    "response = session.delete(url)\n",
    "pprint(response.status_code)"
   ]
  },
  {
   "cell_type": "markdown",
   "metadata": {},
   "source": [
    "# Exemples de manipulation\n",
    "\n",
    "Voici quelques exemples un peu plus avancés de manipulation de données. Une bonne connaissance de la programmation en python vous sera bénéfique pour faire des manipulations encore plus poussées."
   ]
  },
  {
   "cell_type": "markdown",
   "metadata": {},
   "source": [
    "## Afficher la liste des noms d'utilisateurs complets"
   ]
  },
  {
   "cell_type": "code",
   "execution_count": 13,
   "metadata": {
    "collapsed": false
   },
   "outputs": [
    {
     "name": "stdout",
     "output_type": "stream",
     "text": [
      "Mao Abdoulai\n",
      "Mamasta Michel-Brunnemer\n"
     ]
    }
   ],
   "source": [
    "url = \"{}/users\".format(SERVER)\n",
    "query = {'order': 'firstname', 'direction': 'desc', 'limit': 2}\n",
    "response = session.get(url, params=query).json()\n",
    "\n",
    "users = response['items']\n",
    "for user in users:\n",
    "    print \"{} {}\".format(user['firstname'], user['lastname'])"
   ]
  },
  {
   "cell_type": "markdown",
   "metadata": {},
   "source": [
    "## Liste des adresses MAC pour les postes en mode autoprov"
   ]
  },
  {
   "cell_type": "code",
   "execution_count": 15,
   "metadata": {
    "collapsed": false
   },
   "outputs": [
    {
     "name": "stdout",
     "output_type": "stream",
     "text": [
      "00:08:5d:31:ef:e0\n"
     ]
    }
   ],
   "source": [
    "url = \"{}/devices\".format(SERVER)\n",
    "response = session.get(url).json()\n",
    "\n",
    "devices = response['items']\n",
    "for device in devices:\n",
    "    if device['status'] == 'autoprov':\n",
    "        print device['mac']"
   ]
  },
  {
   "cell_type": "markdown",
   "metadata": {},
   "source": [
    "## Liste des extensions dans le contexte 'from-extern'"
   ]
  },
  {
   "cell_type": "code",
   "execution_count": 16,
   "metadata": {
    "collapsed": false
   },
   "outputs": [
    {
     "name": "stdout",
     "output_type": "stream",
     "text": [
      "1000\n",
      "1001\n",
      "2000\n",
      "2100\n",
      "2200\n",
      "3000\n",
      "4000\n"
     ]
    }
   ],
   "source": [
    "url = \"{}/extensions\".format(SERVER)\n",
    "response = session.get(url).json()\n",
    "\n",
    "extensions = response['items']\n",
    "for extension in extensions:\n",
    "    if extension['context'] == 'from-extern':\n",
    "        print extension['exten']"
   ]
  },
  {
   "cell_type": "markdown",
   "metadata": {},
   "source": [
    "## Gestion d'erreurs\n",
    "\n",
    "Pour des fins de démonstration, aucun exemple jusqu'à présent ne gère les erreurs sur la réception d'une réponse. En pratique, la gestion d'erreur est un élément important à considérer pour éviter de mauvaises surprises. Voici un exemple simplifié de comment aller vérifier si une réponse contient une erreur"
   ]
  },
  {
   "cell_type": "code",
   "execution_count": 17,
   "metadata": {
    "collapsed": false
   },
   "outputs": [
    {
     "name": "stdout",
     "output_type": "stream",
     "text": [
      "Input Error - missing parameters: firstname\n"
     ]
    }
   ],
   "source": [
    "url = \"{}/users\".format(SERVER)\n",
    "response = session.post(url, data=\"{}\")\n",
    "\n",
    "if response.status_code >= 500:\n",
    "    print response.text\n",
    "elif response.status_code >= 400:\n",
    "    errors = response.json()\n",
    "    for error in errors:\n",
    "        print error"
   ]
  },
  {
   "cell_type": "markdown",
   "metadata": {},
   "source": [
    "# Création d'utilisateur provisionné\n",
    "\n",
    "Nous allons maintenant procédér à un exemple sur la création d'un utilisateur qui sera capable de recevoir et d'émettre des appels une fois terminé. Voici quelques notions à garder en tête :\n",
    "\n",
    " * User\n",
    "     * Une personne utilisant l'IPBX\n",
    " * Extension\n",
    "     * Le numéro composé pour rejoindre la personne\n",
    " * Line\n",
    "     * Ce qui permet de relier ensemble un utilisateur et une extension\n",
    " * Device\n",
    "     * Un poste, un téléphone physique.\n",
    "   \n",
    "   \n",
    "Voici les étapes nécessaires à la création complete de l'utilisateur :\n",
    "\n",
    "1. Création de l'utilisateur\n",
    "2. Création de la ligne\n",
    "3. Création de l'extension\n",
    "4. Association de l'utilisateur et la ligne\n",
    "5. Association de l'utilisateur et l'extension\n",
    "\n",
    "Avec ces étapes nous avons un utilisateur capable d'émettre et de recevoir des appels à l'interne. Nous pouvons aussi permettre des appels à l'externe en ajoutant un appel entrant. Pour ce faire nous allons ajouter les étapes suivantes :\n",
    "\n",
    "6. Création d'une extension pour l'appel entrant\n",
    "7. Association de l'appel entrant et la ligne"
   ]
  },
  {
   "cell_type": "markdown",
   "metadata": {},
   "source": [
    "## Création de l'utilisateur"
   ]
  },
  {
   "cell_type": "markdown",
   "metadata": {},
   "source": [
    "<img src=\"users.png\" />"
   ]
  },
  {
   "cell_type": "code",
   "execution_count": 18,
   "metadata": {
    "collapsed": false
   },
   "outputs": [
    {
     "name": "stdout",
     "output_type": "stream",
     "text": [
      "{u'caller_id': None,\n",
      " u'description': None,\n",
      " u'firstname': u'Lord',\n",
      " u'id': 20,\n",
      " u'language': None,\n",
      " u'lastname': u'Sanderson',\n",
      " u'links': [{u'href': u'https://dev:9486/1.1/users/20', u'rel': u'users'}],\n",
      " u'mobile_phone_number': None,\n",
      " u'music_on_hold': None,\n",
      " u'outgoing_caller_id': None,\n",
      " u'password': None,\n",
      " u'preprocess_subroutine': None,\n",
      " u'timezone': None,\n",
      " u'userfield': None,\n",
      " u'username': None}\n"
     ]
    }
   ],
   "source": [
    "parameters = {'firstname': 'Lord',\n",
    "              'lastname': 'Sanderson'}\n",
    "\n",
    "\n",
    "url = \"{}/users\".format(SERVER)\n",
    "encoded_parameters = json.dumps(parameters)\n",
    "user = session.post(url, data=encoded_parameters).json()\n",
    "\n",
    "pprint(user)"
   ]
  },
  {
   "cell_type": "markdown",
   "metadata": {},
   "source": [
    "## Création de la ligne"
   ]
  },
  {
   "cell_type": "markdown",
   "metadata": {},
   "source": [
    "<img src=\"lines.png\" />"
   ]
  },
  {
   "cell_type": "code",
   "execution_count": 19,
   "metadata": {
    "collapsed": false
   },
   "outputs": [
    {
     "name": "stdout",
     "output_type": "stream",
     "text": [
      "{u'callerid': None,\n",
      " u'context': u'default',\n",
      " u'device_slot': 1,\n",
      " u'id': 15,\n",
      " u'links': [{u'href': u'https://dev:9486/1.1/lines_sip/15',\n",
      "             u'rel': u'lines_sip'}],\n",
      " u'provisioning_extension': u'517423',\n",
      " u'secret': u'tdt0bgqm',\n",
      " u'username': u'okvvj4yz'}\n"
     ]
    }
   ],
   "source": [
    "parameters = {'context': 'default',\n",
    "              'device_slot': 1}\n",
    "\n",
    "url = \"{}/lines_sip\".format(SERVER)\n",
    "encoded_parameters = json.dumps(parameters)\n",
    "line = session.post(url, data=encoded_parameters).json()\n",
    "\n",
    "pprint(line)"
   ]
  },
  {
   "cell_type": "markdown",
   "metadata": {},
   "source": [
    "## Création de l'extension"
   ]
  },
  {
   "cell_type": "markdown",
   "metadata": {},
   "source": [
    "<img src=\"extensions.png\" />"
   ]
  },
  {
   "cell_type": "code",
   "execution_count": 20,
   "metadata": {
    "collapsed": false
   },
   "outputs": [
    {
     "name": "stdout",
     "output_type": "stream",
     "text": [
      "{u'commented': False,\n",
      " u'context': u'default',\n",
      " u'exten': u'1100',\n",
      " u'id': 99,\n",
      " u'links': [{u'href': u'https://dev:9486/1.1/extensions/99',\n",
      "             u'rel': u'extensions'}]}\n"
     ]
    }
   ],
   "source": [
    "parameters = {'exten': '1100',\n",
    "              'context': 'default'}\n",
    "\n",
    "url = \"{}/extensions\".format(SERVER)\n",
    "encoded_parameters = json.dumps(parameters)\n",
    "extension = session.post(url, data=encoded_parameters).json()\n",
    "\n",
    "pprint(extension)"
   ]
  },
  {
   "cell_type": "markdown",
   "metadata": {},
   "source": [
    "## Association de l'utilisateur et la ligne"
   ]
  },
  {
   "cell_type": "markdown",
   "metadata": {},
   "source": [
    "<img src=\"user_line.png\" />"
   ]
  },
  {
   "cell_type": "code",
   "execution_count": 21,
   "metadata": {
    "collapsed": false
   },
   "outputs": [
    {
     "name": "stdout",
     "output_type": "stream",
     "text": [
      "{u'line_id': 15,\n",
      " u'links': [{u'href': u'https://dev:9486/1.1/lines/15', u'rel': u'lines'},\n",
      "            {u'href': u'https://dev:9486/1.1/users/20', u'rel': u'users'}],\n",
      " u'main_line': True,\n",
      " u'main_user': True,\n",
      " u'user_id': 20}\n"
     ]
    }
   ],
   "source": [
    "parameters = {'line_id': line['id']}\n",
    "\n",
    "url = \"{}/users/{}/lines\".format(SERVER, user['id'])\n",
    "encoded_parameters = json.dumps(parameters)\n",
    "user_line = session.post(url, data=encoded_parameters).json()\n",
    "\n",
    "pprint(user_line)"
   ]
  },
  {
   "cell_type": "markdown",
   "metadata": {},
   "source": [
    "## Association de la ligne et de l'extension"
   ]
  },
  {
   "cell_type": "markdown",
   "metadata": {},
   "source": [
    " <img src=\"line_extension.png\" />"
   ]
  },
  {
   "cell_type": "code",
   "execution_count": 22,
   "metadata": {
    "collapsed": false
   },
   "outputs": [
    {
     "name": "stdout",
     "output_type": "stream",
     "text": [
      "{u'extension_id': 99,\n",
      " u'line_id': 15,\n",
      " u'links': [{u'href': u'https://dev:9486/1.1/extensions/99',\n",
      "             u'rel': u'extensions'},\n",
      "            {u'href': u'https://dev:9486/1.1/lines/15', u'rel': u'lines'}]}\n"
     ]
    }
   ],
   "source": [
    "parameters = {'extension_id': extension['id']}\n",
    "\n",
    "url = \"{}/lines/{}/extensions\".format(SERVER, line['id'])\n",
    "encoded_parameters = json.dumps(parameters)\n",
    "line_extension = session.post(url, data=encoded_parameters).json()\n",
    "\n",
    "pprint(line_extension)"
   ]
  },
  {
   "cell_type": "markdown",
   "metadata": {},
   "source": [
    "## Création de l'extension pour l'appel entrant"
   ]
  },
  {
   "cell_type": "code",
   "execution_count": 24,
   "metadata": {
    "collapsed": false
   },
   "outputs": [
    {
     "name": "stdout",
     "output_type": "stream",
     "text": [
      "{u'commented': False,\n",
      " u'context': u'from-extern',\n",
      " u'exten': u'2100',\n",
      " u'id': 100,\n",
      " u'links': [{u'href': u'https://dev:9486/1.1/extensions/100',\n",
      "             u'rel': u'extensions'}]}\n"
     ]
    }
   ],
   "source": [
    "parameters = {'exten': '2100',\n",
    "              'context': 'from-extern'}\n",
    "\n",
    "url = \"{}/extensions\".format(SERVER, line['id'])\n",
    "encoded_parameters = json.dumps(parameters)\n",
    "incall = session.post(url, data=encoded_parameters).json()\n",
    "\n",
    "pprint(incall)"
   ]
  },
  {
   "cell_type": "markdown",
   "metadata": {},
   "source": [
    "## Association de l'extension pour l'appel entrant et la ligne"
   ]
  },
  {
   "cell_type": "markdown",
   "metadata": {},
   "source": [
    "<img src=\"line_incall.png\" />"
   ]
  },
  {
   "cell_type": "code",
   "execution_count": 25,
   "metadata": {
    "collapsed": false
   },
   "outputs": [
    {
     "name": "stdout",
     "output_type": "stream",
     "text": [
      "{u'extension_id': 100,\n",
      " u'line_id': 15,\n",
      " u'links': [{u'href': u'https://dev:9486/1.1/extensions/100',\n",
      "             u'rel': u'extensions'},\n",
      "            {u'href': u'https://dev:9486/1.1/lines/15', u'rel': u'lines'}]}\n"
     ]
    }
   ],
   "source": [
    "parameters = {'extension_id': incall['id']}\n",
    "\n",
    "url = \"{}/lines/{}/extensions\".format(SERVER, line['id'])\n",
    "encoded_parameters = json.dumps(parameters)\n",
    "line_incall = session.post(url, data=encoded_parameters).json()\n",
    "\n",
    "pprint(line_incall)"
   ]
  },
  {
   "cell_type": "markdown",
   "metadata": {},
   "source": [
    "## Exemple de toutes les étapes mis en commun"
   ]
  },
  {
   "cell_type": "code",
   "execution_count": 26,
   "metadata": {
    "collapsed": false
   },
   "outputs": [
    {
     "name": "stdout",
     "output_type": "stream",
     "text": [
      "provisioning extension: 113484\n"
     ]
    }
   ],
   "source": [
    "def create(url, parameters):\n",
    "    full_url = SERVER + url\n",
    "    encoded_parameters = json.dumps(parameters)\n",
    "    \n",
    "    response = session.post(full_url, data=encoded_parameters)\n",
    "    \n",
    "    if not response.status_code == requests.codes.created:\n",
    "        raise Exception(response.text)\n",
    "        \n",
    "    return response.json()\n",
    "\n",
    "\n",
    "parameters = {\n",
    "    'user': {\n",
    "        'firstname': 'Johnny',\n",
    "        'lastname': 'Depp',\n",
    "    },\n",
    "    'line': {\n",
    "        'context': 'default',\n",
    "        'device_slot': 1,\n",
    "    },\n",
    "    'extension': {\n",
    "        'exten': '1200',\n",
    "        'context': 'default',\n",
    "    },\n",
    "    'incall': {\n",
    "        'exten': '2200',\n",
    "        'context': 'from-extern'\n",
    "    }\n",
    "}\n",
    "\n",
    "user = create(\"/users\", parameters['user'])\n",
    "line = create(\"/lines_sip\", parameters['line'])\n",
    "extension = create(\"/extensions\", parameters['extension'])\n",
    "incall = create(\"/extensions\", parameters['incall'])\n",
    "\n",
    "associations = {\n",
    "    'user_line': {'line_id': line['id']},\n",
    "    'line_extension': {'extension_id': extension['id']},\n",
    "    'line_incall': {'extension_id': incall['id']}\n",
    "}\n",
    "\n",
    "user_line = create(\"/users/{}/lines\".format(user['id']), \n",
    "                   associations['user_line'])\n",
    "\n",
    "line_extension = create(\"/lines/{}/extensions\".format(line['id']), \n",
    "                        associations['line_extension'])\n",
    "\n",
    "line_incall = create(\"/lines/{}/extensions\".format(line['id']), \n",
    "                     associations['line_incall'])\n",
    "\n",
    "print \"provisioning extension: {}\".format(line['provisioning_extension'])"
   ]
  },
  {
   "cell_type": "markdown",
   "metadata": {
    "collapsed": false
   },
   "source": [
    "<img src=\"line_device.png\" />"
   ]
  },
  {
   "cell_type": "code",
   "execution_count": null,
   "metadata": {
    "collapsed": true
   },
   "outputs": [],
   "source": []
  }
 ],
 "metadata": {
  "kernelspec": {
   "display_name": "Python 2",
   "language": "python",
   "name": "python2"
  },
  "language_info": {
   "codemirror_mode": {
    "name": "ipython",
    "version": 2
   },
   "file_extension": ".py",
   "mimetype": "text/x-python",
   "name": "python",
   "nbconvert_exporter": "python",
   "pygments_lexer": "ipython2",
   "version": "2.7.9"
  }
 },
 "nbformat": 4,
 "nbformat_minor": 0
}
